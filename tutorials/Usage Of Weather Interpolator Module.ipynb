{
 "cells": [
  {
   "cell_type": "markdown",
   "metadata": {},
   "source": [
    "# Usage of `src.analysis.weather_interpolator` module.\n",
    "\n",
    "This notebook outlies the basic usage of the `src.analysis.weather_interpolator` module. Used to interpolate weather conditions at any time, lon, lat, and elevation.\n",
    " \n",
    "**Requirements**\n",
    " - A csv with weather station data for the whole country for a given time interval\n",
    " \n",
    "**Helpful Links**\n"
   ]
  },
  {
   "cell_type": "markdown",
   "metadata": {},
   "source": [
    "## Basic Setup"
   ]
  },
  {
   "cell_type": "code",
   "execution_count": 1,
   "metadata": {},
   "outputs": [
    {
     "name": "stdout",
     "output_type": "stream",
     "text": [
      "2023/11/07 21:11:59 : CSV Decoding data from tutorial_data/state_vectors_compressed.csv\n"
     ]
    }
   ],
   "source": [
    "import sys\n",
    "# This variable should indicate the path from this Jupyter Notebook to the root directory of the repo.\n",
    "root_path = '../'\n",
    "# Adds the repo's root to the list of paths\n",
    "sys.path.append(root_path)\n",
    "\n",
    "# Package to read yml files\n",
    "import yaml\n",
    "# Package to handle file paths\n",
    "import os\n",
    "# Package to deal with DataFrames\n",
    "import pandas as pd\n",
    "# Package to plot stuff\n",
    "import matplotlib.pyplot as plt\n",
    "# Package for numerical and array handling\n",
    "import numpy as np\n",
    "\n",
    "# Function to clear output from jupyter notebook\n",
    "from IPython.display import clear_output\n",
    "# Package for compressing dataframes into file\n",
    "from src.data import compressors\n",
    "# Package for defining and fitting weather models\n",
    "from src.models import weather\n",
    "# Utilities package\n",
    "from src.common import utils\n",
    "# Package for interpolating and estimating weather\n",
    "from src.analysis import weather_interpolator\n",
    "\n",
    "root_path = os.path.normpath(root_path) # Path from this notebook to the root directory\n",
    "config_path_from_root = os.path.normpath('config/config_tutorial.yml') # Path from root to the desired config file\n",
    "config_path = os.path.join(root_path, config_path_from_root) # Defining path from this notebook to config file\n",
    "\n",
    "# Loading config file\n",
    "with open(config_path, 'r',  encoding='utf8') as file:\n",
    "    config = yaml.safe_load(file)\n",
    "\n",
    "# Defining \"clear-output\" function to feed into logger\n",
    "def clear():\n",
    "    clear_output(wait=True)\n",
    "\n",
    "# Creates an instance of a logger class to log all that happens, optional (but encouraged).\n",
    "logger = utils.Logger(config, clear_function=None)\n",
    "\n",
    "# Creates an isntance of the CsvCompressor\n",
    "compressor = compressors.CsvCompressor(config, logger=logger)\n",
    "\n",
    "# Creates an instance of the weather interpolator\n",
    "interpolator = weather_interpolator.WeatherInterpolator(config, logger=logger)\n",
    "\n",
    "# Defining location of data\n",
    "data_directory = 'tutorial_data'\n",
    "\n",
    "# Loading weather station data\n",
    "all_stations_data = pd.read_csv(os.path.join(data_directory, 'all_stations_data.csv'), index_col = 0)\n",
    "\n",
    "# Loading flight state_vectors\n",
    "state_vectors = compressor.decode_to_dataframe_from_file(os.path.join(data_directory, 'state_vectors_compressed.csv'))"
   ]
  },
  {
   "cell_type": "markdown",
   "metadata": {},
   "source": [
    "## Interpolating weather at specific time, lat, lon, and elevation\n",
    "\n",
    "By Default, the interpolator will look for data in the weather's out-dir as specified in the config file, unless it's given one directly.\n",
    "\n",
    "The interpolator will also calibrate the weather data, unless specified that it has already beed calibrated as an argument\n",
    "\n",
    "Weather model calibration happens inside the estimation function.\n",
    "\n",
    "Target needs to be a dictionary with the necessary parameters, in this case we'll use the avegate values form the weather stations info"
   ]
  },
  {
   "cell_type": "markdown",
   "metadata": {},
   "source": [
    "## Estimating scalar at given target location and time"
   ]
  },
  {
   "cell_type": "code",
   "execution_count": 2,
   "metadata": {},
   "outputs": [],
   "source": [
    "target = {'lon': all_stations_data['lon'].mean(),\n",
    "         'lat': all_stations_data['lat'].mean(),\n",
    "         'timestamp': all_stations_data['timestamp'].mean(),\n",
    "         'elevation': all_stations_data['elevation'].mean(),\n",
    "         }"
   ]
  },
  {
   "cell_type": "code",
   "execution_count": 3,
   "metadata": {},
   "outputs": [
    {
     "name": "stdout",
     "output_type": "stream",
     "text": [
      "88.6 ms ± 12.3 ms per loop (mean ± std. dev. of 10 runs, 1 loop each)\n"
     ]
    }
   ],
   "source": [
    "\n",
    "%timeit -r 10 scalar = interpolator.estimate_scalars(target, ['tmpf'], stations_data=all_stations_data)\n"
   ]
  },
  {
   "cell_type": "code",
   "execution_count": 4,
   "metadata": {},
   "outputs": [
    {
     "name": "stdout",
     "output_type": "stream",
     "text": [
      "82.9 ms ± 2.06 ms per loop (mean ± std. dev. of 10 runs, 10 loops each)\n"
     ]
    }
   ],
   "source": [
    "\n",
    "%timeit -r 10 scalar = interpolator.estimate_scalars(target, ['air_pressure'], stations_data=all_stations_data)\n"
   ]
  },
  {
   "cell_type": "code",
   "execution_count": 5,
   "metadata": {},
   "outputs": [
    {
     "name": "stdout",
     "output_type": "stream",
     "text": [
      "86.2 ms ± 7.18 ms per loop (mean ± std. dev. of 10 runs, 10 loops each)\n"
     ]
    }
   ],
   "source": [
    "\n",
    "%timeit -r 10 scalar = interpolator.estimate_scalars(target, ['air_density'], stations_data=all_stations_data)\n"
   ]
  },
  {
   "cell_type": "code",
   "execution_count": 6,
   "metadata": {},
   "outputs": [
    {
     "name": "stdout",
     "output_type": "stream",
     "text": [
      "85.3 ms ± 1.39 ms per loop (mean ± std. dev. of 10 runs, 10 loops each)\n"
     ]
    }
   ],
   "source": [
    "\n",
    "%timeit -r 10 scalar = interpolator.estimate_scalars(target, ['clouds'], stations_data=all_stations_data)\n"
   ]
  },
  {
   "cell_type": "code",
   "execution_count": 7,
   "metadata": {},
   "outputs": [
    {
     "name": "stdout",
     "output_type": "stream",
     "text": [
      "169 ms ± 2.47 ms per loop (mean ± std. dev. of 10 runs, 10 loops each)\n"
     ]
    }
   ],
   "source": [
    "\n",
    "%timeit -r 10 scalar = interpolator.estimate_scalars(target, ['tmpf', 'air_pressure', 'air_density', 'clouds'], stations_data=all_stations_data)\n"
   ]
  },
  {
   "cell_type": "code",
   "execution_count": 17,
   "metadata": {},
   "outputs": [
    {
     "name": "stdout",
     "output_type": "stream",
     "text": [
      "3825/3826\n"
     ]
    }
   ],
   "source": [
    "scalars = ['tmpf', 'air_pressure', 'air_density', 'clouds']\n",
    "scalar_values = {scalar: np.repeat(np.nan, len(state_vectors)) for scalar in scalars}\n",
    "for i, row in state_vectors.iloc[::25].iterrows():\n",
    "    clear()\n",
    "    print(f'{i}/{len(state_vectors)}')\n",
    "    target = {\n",
    "        'lon': row['lon'],\n",
    "        'lat': row['lat'],\n",
    "        'timestamp': row['time'],\n",
    "        'elevation': row['geoaltitude'],\n",
    "         }\n",
    "    values = interpolator.estimate_scalars(target, scalars, stations_data=all_stations_data)\n",
    "    for j, scalar in enumerate(scalars):\n",
    "        scalar_values[scalar][i] = values[j]"
   ]
  },
  {
   "cell_type": "code",
   "execution_count": 18,
   "metadata": {},
   "outputs": [],
   "source": [
    "for scalar in scalars:\n",
    "    state_vectors[scalar] = scalar_values[scalar]\n",
    "    state_vectors[scalar] = state_vectors[scalar].interpolate(method='linear')\n",
    "\n"
   ]
  }
 ],
 "metadata": {
  "kernelspec": {
   "display_name": "FlightStats",
   "language": "python",
   "name": "flightstats"
  },
  "language_info": {
   "codemirror_mode": {
    "name": "ipython",
    "version": 3
   },
   "file_extension": ".py",
   "mimetype": "text/x-python",
   "name": "python",
   "nbconvert_exporter": "python",
   "pygments_lexer": "ipython3",
   "version": "3.11.5"
  }
 },
 "nbformat": 4,
 "nbformat_minor": 4
}
