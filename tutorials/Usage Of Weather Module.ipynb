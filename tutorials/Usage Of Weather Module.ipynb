{
 "cells": [
  {
   "cell_type": "markdown",
   "metadata": {},
   "source": [
    "# Usage of `src.models.weather` module.\n",
    "\n",
    "This notebook outlies the basic usage of the `src.models.weather` module. Used to define weather models and estimate values at different altitudes\n",
    " \n",
    "**Requirements**\n",
    " - A csv with weather station data\n",
    "\n",
    "**Helpful Links**\n",
    " - [Weather Models Wiki](https://github.com/Flight-Path-Analysis/FlightPathAnalysis/wiki/Weather_Models)\n"
   ]
  },
  {
   "cell_type": "markdown",
   "metadata": {},
   "source": [
    "## Basic Setup"
   ]
  },
  {
   "cell_type": "code",
   "execution_count": 20,
   "metadata": {},
   "outputs": [],
   "source": [
    "import sys\n",
    "# This variable should indicate the path from this Jupyter Notebook to the root directory of the repo.\n",
    "root_path = '../'\n",
    "# Adds the repo's root to the list of paths\n",
    "sys.path.append(root_path)\n",
    "\n",
    "# Package to read yml files\n",
    "import yaml\n",
    "# Package to handle file paths\n",
    "import os\n",
    "# Package to deal with DataFrames\n",
    "import pandas as pd\n",
    "# Package to plot stuff\n",
    "import matplotlib.pyplot as plt\n",
    "import numpy as np\n",
    "\n",
    "# Function to clear output from jupyter notebook\n",
    "from IPython.display import clear_output\n",
    "# Package for compressing dataframes into file\n",
    "from src.models import weather\n",
    "# Utilities package\n",
    "from src.common import utils\n",
    "\n",
    "root_path = os.path.normpath(root_path) # Path from this notebook to the root directory\n",
    "config_path_from_root = os.path.normpath('config/config_tutorial.yml') # Path from root to the desired config file\n",
    "config_path = os.path.join(root_path, config_path_from_root) # Defining path from this notebook to config file\n",
    "\n",
    "# Loading config file\n",
    "with open(config_path, 'r',  encoding='utf8') as file:\n",
    "    config = yaml.safe_load(file)\n",
    "\n",
    "# Defining \"clear-output\" function to feed into logger\n",
    "def clear():\n",
    "    clear_output(wait=True)\n",
    "\n",
    "# Creates an instance of a logger class to log all that happens, optional (but encouraged).\n",
    "logger = utils.Logger(config, clear_function=clear)\n",
    "\n",
    "# Loading weather station data\n",
    "data_directory = 'tutorial_data'\n",
    "station_data = pd.read_csv(os.path.join(data_directory, 'station_data.csv'), index_col = 0)"
   ]
  },
  {
   "cell_type": "markdown",
   "metadata": {},
   "source": [
    "## Compute Quantities From Weather Models\n",
    "\n",
    "This code computes the desired quantities at different elevations from the weather models in the package.\n",
    "\n",
    "The currently available weather models are:\n",
    " - Temperature\n",
    "   - The temperature model is a simple Lapse Rate model, that is, the temperature decreases linearly with height.\n",
    " - Air Pressure\n",
    "   - The air pressure model is estimated from the Temperature model, where:\n",
    "$$P(h) = A exp\\left(-\\frac{g M}{R}\\int_0^h\\frac{1}{T(h')}dh'\\right)$$\n",
    "   - All the constants can be found on the `models` seciton in the config file\n",
    " - Air Density\n",
    "   - The air density model is estimated from the temperature and pressure models simply by:\n",
    "   $$\\rho(h) = \\frac{P(h)}{R_d\\times T(h)}$$\n",
    " - Clouds\n",
    "   - The cloud coverage model is an interpolation of the sky condition as reported by the `skycX` and `skylX` variables. These are mapped to a number between 0 and 1 and interpolated.\n",
    "   - Extrapolations are clipped to the nearest valid entry.\n",
    "   - If no valid entry, return 0"
   ]
  },
  {
   "cell_type": "code",
   "execution_count": 19,
   "metadata": {},
   "outputs": [
    {
     "name": "stdout",
     "output_type": "stream",
     "text": [
      "Temperature in F at 100 meters: 34.48\n",
      "Air Pressure in millibars at 100 meters: 1000.7\n",
      "Air Density in Kg/m^3 at 100 meters: 1.27\n",
      "Cloud Level at 100 meters: 0.0\n"
     ]
    }
   ],
   "source": [
    "height = 100\n",
    "row = station_data.iloc[0]\n",
    "\n",
    "LR = config['models']['temperature']['default-coefficient']\n",
    "g = config['models']['constants']['gravitational-acceleration']\n",
    "R = config['models']['constants']['gas-constant']\n",
    "M = config['models']['constants']['molar-mass-air']\n",
    "P0 = config['models']['constants']['atm-pressure']\n",
    "Rd = config['models']['constants']['specific-gas-constant']\n",
    "\n",
    "temperature_at_height = weather.temperature_model(height, row['elevation'], row['tmpf'], LR)\n",
    "air_pressure_at_height = weather.air_pressure_model(height, row['elevation'], row['tmpf'], LR, g, R, M, P0)\n",
    "air_density_at_height = weather.air_density_model(height, row['elevation'], row['tmpf'], LR, g, R, M, P0, Rd)\n",
    "clouds_at_height = weather.cloud_model(height,\n",
    "                                       row[['skyc1', 'skyc2', 'skyc3', 'skyc4']].apply(pd.to_numeric, errors='coerce').values,\n",
    "                                       row[['skyl1', 'skyl2', 'skyl3', 'skyl4']].apply(pd.to_numeric, errors='coerce').values,\n",
    "                                       config)\n",
    "print(f'Temperature in F at {height} meters: {round(temperature_at_height,2)}')\n",
    "print(f'Air Pressure in millibars at {height} meters: {round(air_pressure_at_height,2)}')\n",
    "print(f'Air Density in Kg/m^3 at {height} meters: {round(air_density_at_height,2)}')\n",
    "print(f'Cloud Level at {height} meters: {round(clouds_at_height,2)}')\n"
   ]
  }
 ],
 "metadata": {
  "kernelspec": {
   "display_name": "FlightStats",
   "language": "python",
   "name": "flightstats"
  },
  "language_info": {
   "codemirror_mode": {
    "name": "ipython",
    "version": 3
   },
   "file_extension": ".py",
   "mimetype": "text/x-python",
   "name": "python",
   "nbconvert_exporter": "python",
   "pygments_lexer": "ipython3",
   "version": "3.11.5"
  }
 },
 "nbformat": 4,
 "nbformat_minor": 4
}
