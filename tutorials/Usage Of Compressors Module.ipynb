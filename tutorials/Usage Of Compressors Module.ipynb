{
 "cells": [
  {
   "cell_type": "markdown",
   "metadata": {},
   "source": [
    "# Usage of `src.data.compressor` module.\n",
    "\n",
    "This notebook outlies the basic usage of the `src.data.compressors` module. Used to compress pandas dataframes.\n",
    " \n",
    "**Requirements**\n",
    "\n",
    " - A `.yml` file being a copy of `config/config_template.yml` contaning information about the flights to be downloaded, as well as a path to the credentials config file"
   ]
  },
  {
   "cell_type": "markdown",
   "metadata": {},
   "source": [
    "## Basic Setup"
   ]
  },
  {
   "cell_type": "code",
   "execution_count": 1,
   "metadata": {},
   "outputs": [],
   "source": [
    "import sys\n",
    "# This variable should indicate the path from this Jupyter Notebook to the root directory of the repo.\n",
    "root_path = '../'\n",
    "# Adds the repo's root to the list of paths\n",
    "sys.path.append(root_path)\n",
    "\n",
    "# Package to read yml files\n",
    "import yaml\n",
    "# Package to handle file paths\n",
    "import os\n",
    "# Package to deal with DataFrames\n",
    "import pandas as pd\n",
    "\n",
    "# Function to clear output from jupyter notebook\n",
    "from IPython.display import clear_output\n",
    "# Package for compressing dataframes into file\n",
    "from src.data import compressors\n",
    "# Utilities package\n",
    "from src.common import utils\n",
    "\n",
    "# Normalizing all paths to work on all operational systems\n",
    "root_path = os.path.normpath(root_path) # Path from this notebook to the root directory\n",
    "config_path_from_root = os.path.normpath('config/config_tutorial.yml') # Path from root to the desired config file\n",
    "config_path = os.path.join(root_path, config_path_from_root) # Defining path from this notebook to config file\n",
    "\n",
    "# Loading config file\n",
    "with open(config_path, 'r',  encoding='utf8') as file:\n",
    "    config = yaml.safe_load(file)\n",
    "\n",
    "# Defining \"clear-output\" function to feed into logger\n",
    "def clear():\n",
    "    clear_output(wait=True)\n",
    "\n",
    "# Creates an instance of a logger class to log all that happens, optional (but encouraged).\n",
    "logger = utils.Logger(config, clear_function=clear)\n",
    "\n",
    "data_directory = 'tutorial_data'\n",
    "\n",
    "state_vectors = pd.read_csv(os.path.join(data_directory, 'state_vectors.csv'), index_col = 0)\n",
    "\n",
    "csv_compressor = compressors.CsvCompressor(config, logger=logger)\n",
    "\n",
    "# zip_compressor = compressors.ZipCompressor(config, logger=logger)"
   ]
  },
  {
   "cell_type": "markdown",
   "metadata": {},
   "source": [
    "## Usage of CsvCompressor\n",
    "\n",
    "The CSV Compressor works by choosing `config['data-compression']['csv-compressor']['num-points']` equally spaced points between the start and end of the flight, and linearly interpolating the values of the quantities of interest to those points. The resulting dataframe is then saved to file.\n",
    "\n",
    "For decoding, the compressor reads and file and interpolated the data values for all integer seconds between the smallest and largest timestamps, reconstructing an interpolated version of the data."
   ]
  },
  {
   "cell_type": "code",
   "execution_count": 2,
   "metadata": {},
   "outputs": [
    {
     "name": "stdout",
     "output_type": "stream",
     "text": [
      "2023/11/08 13:00:17 : CSV Decoding data from tutorial_data/state_vectors_compressed.csv\n"
     ]
    },
    {
     "data": {
      "text/html": [
       "<div>\n",
       "<style scoped>\n",
       "    .dataframe tbody tr th:only-of-type {\n",
       "        vertical-align: middle;\n",
       "    }\n",
       "\n",
       "    .dataframe tbody tr th {\n",
       "        vertical-align: top;\n",
       "    }\n",
       "\n",
       "    .dataframe thead th {\n",
       "        text-align: right;\n",
       "    }\n",
       "</style>\n",
       "<table border=\"1\" class=\"dataframe\">\n",
       "  <thead>\n",
       "    <tr style=\"text-align: right;\">\n",
       "      <th></th>\n",
       "      <th>time</th>\n",
       "      <th>lat</th>\n",
       "      <th>lon</th>\n",
       "      <th>baroaltitude</th>\n",
       "      <th>geoaltitude</th>\n",
       "      <th>heading</th>\n",
       "      <th>velocity</th>\n",
       "    </tr>\n",
       "  </thead>\n",
       "  <tbody>\n",
       "    <tr>\n",
       "      <th>0</th>\n",
       "      <td>1672504541</td>\n",
       "      <td>30.524768</td>\n",
       "      <td>-91.141534</td>\n",
       "      <td>129.540000</td>\n",
       "      <td>114.300000</td>\n",
       "      <td>132.646703</td>\n",
       "      <td>79.732182</td>\n",
       "    </tr>\n",
       "    <tr>\n",
       "      <th>1</th>\n",
       "      <td>1672504542</td>\n",
       "      <td>30.524326</td>\n",
       "      <td>-91.140966</td>\n",
       "      <td>143.955247</td>\n",
       "      <td>132.211482</td>\n",
       "      <td>132.569031</td>\n",
       "      <td>79.451578</td>\n",
       "    </tr>\n",
       "    <tr>\n",
       "      <th>2</th>\n",
       "      <td>1672504543</td>\n",
       "      <td>30.523884</td>\n",
       "      <td>-91.140398</td>\n",
       "      <td>158.370494</td>\n",
       "      <td>150.122965</td>\n",
       "      <td>132.491359</td>\n",
       "      <td>79.170974</td>\n",
       "    </tr>\n",
       "    <tr>\n",
       "      <th>3</th>\n",
       "      <td>1672504544</td>\n",
       "      <td>30.523442</td>\n",
       "      <td>-91.139830</td>\n",
       "      <td>172.785741</td>\n",
       "      <td>168.034447</td>\n",
       "      <td>132.413687</td>\n",
       "      <td>78.890370</td>\n",
       "    </tr>\n",
       "    <tr>\n",
       "      <th>4</th>\n",
       "      <td>1672504545</td>\n",
       "      <td>30.522991</td>\n",
       "      <td>-91.139252</td>\n",
       "      <td>187.259299</td>\n",
       "      <td>185.829308</td>\n",
       "      <td>132.373855</td>\n",
       "      <td>78.688947</td>\n",
       "    </tr>\n",
       "    <tr>\n",
       "      <th>...</th>\n",
       "      <td>...</td>\n",
       "      <td>...</td>\n",
       "      <td>...</td>\n",
       "      <td>...</td>\n",
       "      <td>...</td>\n",
       "      <td>...</td>\n",
       "      <td>...</td>\n",
       "    </tr>\n",
       "    <tr>\n",
       "      <th>3821</th>\n",
       "      <td>1672508362</td>\n",
       "      <td>32.931543</td>\n",
       "      <td>-97.054576</td>\n",
       "      <td>319.259110</td>\n",
       "      <td>276.463525</td>\n",
       "      <td>180.839266</td>\n",
       "      <td>70.019598</td>\n",
       "    </tr>\n",
       "    <tr>\n",
       "      <th>3822</th>\n",
       "      <td>1672508363</td>\n",
       "      <td>32.930925</td>\n",
       "      <td>-97.054582</td>\n",
       "      <td>315.719012</td>\n",
       "      <td>271.020988</td>\n",
       "      <td>180.751338</td>\n",
       "      <td>69.970721</td>\n",
       "    </tr>\n",
       "    <tr>\n",
       "      <th>3823</th>\n",
       "      <td>1672508364</td>\n",
       "      <td>32.930314</td>\n",
       "      <td>-97.054586</td>\n",
       "      <td>312.079341</td>\n",
       "      <td>267.040659</td>\n",
       "      <td>180.641321</td>\n",
       "      <td>69.969239</td>\n",
       "    </tr>\n",
       "    <tr>\n",
       "      <th>3824</th>\n",
       "      <td>1672508365</td>\n",
       "      <td>32.929703</td>\n",
       "      <td>-97.054591</td>\n",
       "      <td>308.439671</td>\n",
       "      <td>263.060329</td>\n",
       "      <td>180.531303</td>\n",
       "      <td>69.967757</td>\n",
       "    </tr>\n",
       "    <tr>\n",
       "      <th>3825</th>\n",
       "      <td>1672508366</td>\n",
       "      <td>32.929092</td>\n",
       "      <td>-97.054596</td>\n",
       "      <td>304.800000</td>\n",
       "      <td>259.080000</td>\n",
       "      <td>180.421285</td>\n",
       "      <td>69.966275</td>\n",
       "    </tr>\n",
       "  </tbody>\n",
       "</table>\n",
       "<p>3826 rows × 7 columns</p>\n",
       "</div>"
      ],
      "text/plain": [
       "            time        lat        lon  baroaltitude  geoaltitude     heading  \\\n",
       "0     1672504541  30.524768 -91.141534    129.540000   114.300000  132.646703   \n",
       "1     1672504542  30.524326 -91.140966    143.955247   132.211482  132.569031   \n",
       "2     1672504543  30.523884 -91.140398    158.370494   150.122965  132.491359   \n",
       "3     1672504544  30.523442 -91.139830    172.785741   168.034447  132.413687   \n",
       "4     1672504545  30.522991 -91.139252    187.259299   185.829308  132.373855   \n",
       "...          ...        ...        ...           ...          ...         ...   \n",
       "3821  1672508362  32.931543 -97.054576    319.259110   276.463525  180.839266   \n",
       "3822  1672508363  32.930925 -97.054582    315.719012   271.020988  180.751338   \n",
       "3823  1672508364  32.930314 -97.054586    312.079341   267.040659  180.641321   \n",
       "3824  1672508365  32.929703 -97.054591    308.439671   263.060329  180.531303   \n",
       "3825  1672508366  32.929092 -97.054596    304.800000   259.080000  180.421285   \n",
       "\n",
       "       velocity  \n",
       "0     79.732182  \n",
       "1     79.451578  \n",
       "2     79.170974  \n",
       "3     78.890370  \n",
       "4     78.688947  \n",
       "...         ...  \n",
       "3821  70.019598  \n",
       "3822  69.970721  \n",
       "3823  69.969239  \n",
       "3824  69.967757  \n",
       "3825  69.966275  \n",
       "\n",
       "[3826 rows x 7 columns]"
      ]
     },
     "execution_count": 2,
     "metadata": {},
     "output_type": "execute_result"
    }
   ],
   "source": [
    "# Compressing data\n",
    "compressed_filename = 'state_vectors_compressed.csv'\n",
    "csv_compressor.encode_from_dataframe_to_file(state_vectors, os.path.join(data_directory, compressed_filename))\n",
    "\n",
    "# Decoding data\n",
    "decompressed_data = csv_compressor.decode_to_dataframe_from_file(os.path.join(data_directory, compressed_filename))\n",
    "\n",
    "decompressed_data"
   ]
  },
  {
   "cell_type": "code",
   "execution_count": 3,
   "metadata": {},
   "outputs": [
    {
     "data": {
      "text/plain": [
       "<matplotlib.collections.PathCollection at 0x123704a90>"
      ]
     },
     "execution_count": 3,
     "metadata": {},
     "output_type": "execute_result"
    },
    {
     "data": {
      "image/png": "[encoded data removed]",
      "text/plain": [
       "<Figure size 1000x617.284 with 1 Axes>"
      ]
     },
     "metadata": {},
     "output_type": "display_data"
    }
   ],
   "source": [
    "import matplotlib.pyplot as plt\n",
    "fig, ax = plt.subplots(figsize = [10, 10/1.62])\n",
    "ax.scatter(decompressed_data['time'], decompressed_data['lat'])"
   ]
  },
  {
   "cell_type": "code",
   "execution_count": 4,
   "metadata": {},
   "outputs": [],
   "source": [
    "decompressed_data = decompressed_data.drop_duplicates(subset=['lat', 'lon'], keep='first')\n"
   ]
  },
  {
   "cell_type": "code",
   "execution_count": null,
   "metadata": {},
   "outputs": [],
   "source": []
  },
  {
   "cell_type": "code",
   "execution_count": null,
   "metadata": {},
   "outputs": [],
   "source": []
  }
 ],
 "metadata": {
  "kernelspec": {
   "display_name": "FlightStats",
   "language": "python",
   "name": "flightstats"
  },
  "language_info": {
   "codemirror_mode": {
    "name": "ipython",
    "version": 3
   },
   "file_extension": ".py",
   "mimetype": "text/x-python",
   "name": "python",
   "nbconvert_exporter": "python",
   "pygments_lexer": "ipython3",
   "version": "3.11.5"
  }
 },
 "nbformat": 4,
 "nbformat_minor": 4
}
