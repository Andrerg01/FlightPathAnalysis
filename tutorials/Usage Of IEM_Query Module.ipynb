{
 "cells": [
  {
   "cell_type": "markdown",
   "metadata": {},
   "source": [
    "# Usage of `src.data.iem_query` module.\n",
    "\n",
    "This notebook outlies the basic usage of the `src.data.iem_query` module. Used to query US weather stations data from the IEM database.\n",
    " \n",
    "**Requirements**\n",
    " - A `.yml` file being a copy of `config/config_template.yml` contaning information about the flights to be downloaded, as well as a path to the credentials config file\n",
    "\n",
    "**Helpful Links**\n",
    "\n",
    " - [Downloading and Interpreting IEM Data Wiki](https://github.com/Flight-Path-Analysis/FlightPathAnalysis/wiki/Downloading_and_Interpreting_IEM_Data)\n",
    "\n",
    " - [Iowa Environmental Mesonet](https://mesonet.agron.iastate.edu/)"
   ]
  },
  {
   "cell_type": "markdown",
   "metadata": {},
   "source": [
    "## Basic Setup"
   ]
  },
  {
   "cell_type": "code",
   "execution_count": null,
   "metadata": {},
   "outputs": [],
   "source": [
    "import sys\n",
    "# This variable should indicate the path from this Jupyter Notebook to the root directory of the repo.\n",
    "root_path = '../'\n",
    "# Adds the repo's root to the list of paths\n",
    "sys.path.append(root_path)\n",
    "\n",
    "# Package to read yml files\n",
    "import yaml\n",
    "# Package to handle file paths\n",
    "import os\n",
    "# Function to clear output from jupyter notebook\n",
    "from IPython.display import clear_output\n",
    "# Package for downloading IEM data \n",
    "from src.data import iem_query\n",
    "# Utilities package\n",
    "from src.common import utils\n",
    "\n",
    "# Normalizing all paths to work on all operational systems\n",
    "root_path = os.path.normpath(root_path) # Path from this notebook to the root directory\n",
    "config_path_from_root = os.path.normpath('config/config_tutorial.yml') # Path from root to the desired config file\n",
    "config_path = os.path.join(root_path, config_path_from_root) # Defining path from this notebook to config file\n",
    "\n",
    "# Loading config file as a dictionary\n",
    "with open(config_path, 'r', encoding='utf8') as file:\n",
    "    config = yaml.safe_load(file)\n",
    "\n",
    "# Defining \"clear-output\" function to feed into logger\n",
    "def clear():\n",
    "    clear_output(wait=True)\n",
    "\n",
    "# Creates an instance of a logger class to log all that happens, optional (but encouraged).\n",
    "logger = utils.Logger(config, clear_function=clear)\n",
    "\n",
    "iem_querier = iem_query.Querier(config, logger=logger)\n"
   ]
  },
  {
   "cell_type": "markdown",
   "metadata": {},
   "source": [
    "## Loading all stations and station properties\n",
    "\n",
    "This code loads information for all weather stations in the US states. It returns the results in the form of a Pandas DataFrame.\n",
    "\n",
    "It also, by default, cleans up the data to a more interpretable format\n",
    "\n",
    "The columns of the dataframe are described below\n",
    "\n",
    "  - **id**: [Identification Number] - The unique identifier assigned to each weather station.\n",
    "  - **elevation**: [Elevation] - The height of the weather station above sea level, usually measured in meters or feet.\n",
    "  - **sname**: [Station Name] - The official name of the weather station.\n",
    "  - **time_domain**: [Time Domain] - The time zone or specific time reference in which the weather station operates or reports data.\n",
    "  - **archive_begin**: [Archive Start Date] - The date when the weather station began archiving data.\n",
    "  - **archive_end**: [Archive End Date] - The last date for which data is available in the archive (if the station is still operational, this might be ongoing).\n",
    "  - **state**: [State] - The state or province where the weather station is located.\n",
    "  - **country**: [Country] - The country where the weather station is situated.\n",
    "  - **climate_site**: [Climate Site Identifier] - A unique code or identifier for the climate data site if it is part of a broader climate observation network.\n",
    "  - **wfo**: [Weather Forecast Office] - The local National Weather Service office responsible for the area where the weather station is located.\n",
    "  - **tzname**: [Time Zone Name] - The name of the time zone where the weather station is located, such as 'EST' for Eastern Standard Time.\n",
    "  - **ncdc81**: [NCDC 1981-2010 Normals] - Reference to the National Climatic Data Center's climate normals for the period from 1981 to 2010.\n",
    "  - **ncei91**: [NCEI 1991-2020 Normals] - Reference to the National Centers for Environmental Information's climate normals for the period from 1991 to 2020.\n",
    "  - **ugc_county**: [UGC County Code] - The Universal Geographic Code for the county in which the weather station is located.\n",
    "  - **ugc_zone**: [UGC Zone Code] - The Universal Geographic Code for the forecast zone in which the weather station is located.\n",
    "  - **county**: [County] - The county in which the weather station is located.\n",
    "  - **network**: [Network] - The network or system of weather stations to which this particular station belongs.\n",
    "  - **lon**: [Longitude] - The longitudinal coordinate of the weather station's location, usually in decimal degrees.\n",
    "  - **lat**: [Latitude] - The latitudinal coordinate of the weather station's location, usually in decimal degrees.\n",
    "  - **sigma**: [Sigma] - A custom measure, indicating the width (in physical distance) of the influence of this weather station for interpolation purposes.\n",
    "\n"
   ]
  },
  {
   "cell_type": "code",
   "execution_count": null,
   "metadata": {},
   "outputs": [],
   "source": [
    "# Loads the information for all US weather stations.\n",
    "# filters to keep only stations for which there's available data\n",
    "# Dates are specified in config['base-configs']\n",
    "stations = iem_querier.load_all_station_properties(filter_by_date=True)\n",
    "\n",
    "stations"
   ]
  },
  {
   "cell_type": "code",
   "execution_count": null,
   "metadata": {},
   "outputs": [],
   "source": [
    "stations.columns"
   ]
  },
  {
   "cell_type": "markdown",
   "metadata": {},
   "source": [
    "## Loading data for a particular station in a date range\n",
    "\n",
    "This code loads weather data for a specific weather station. It returns the results in the form of a Pandas DataFrame.\n",
    "\n",
    "It also, by default, cleans up the data to a more interpretable format.\n",
    "\n",
    "The columns of the dataframe are described below\n",
    "\n",
    "  - **station:** The identifier for the weather station, usually an alphanumeric code.\n",
    "  \n",
    "  - **valid:** The timestamp indicating when the observation was taken.\n",
    "\n",
    "  - **lon:** Longitude of the weather station.\n",
    "\n",
    "  - **lat:** Latitude of the weather station.\n",
    "\n",
    "  - **tmpf:** Temperature in degrees Fahrenheit.\n",
    "\n",
    "  - **dwpf:** Dew point temperature in degrees Fahrenheit.\n",
    "\n",
    "  - **relh:** Relative humidity, typically given as a percentage.\n",
    "\n",
    "  - **drct:** Wind direction in degrees, with 0° or 360° representing north.\n",
    "\n",
    "  - **sknt:** Wind speed in knots.\n",
    "\n",
    "  - **p01i:** Precipitation for the past 1 hour, usually in inches.\n",
    "\n",
    "  - **alti:** Altimeter setting, which is the current pressure at sea level.\n",
    "\n",
    "  - **mslp:** Mean Sea Level Pressure.\n",
    "\n",
    "  - **vsby:** Visibility, typically in statute miles.\n",
    "\n",
    "  - **gust:** Wind gust speed in knots.\n",
    "\n",
    "  - **skyc1, skyc2, skyc3, skyc4:** Sky cover for up to four levels. This can be in terms of clear (CLR), scattered (SCT), broken (BKN), overcast (OVC), etc.\n",
    "\n",
    "  - **skyl1, skyl2, skyl3, skyl4:** Altitude (usually in feet) at which the respective sky cover (skyc1-4) levels are observed.\n",
    "\n",
    "  - **wxcodes:** Weather codes representing specific weather phenomena, like rain (RA), snow (SN), etc.\n",
    "\n",
    "  - **ice_accretion_1hr:** Amount of ice accretion (ice buildup) in the past 1 hour.\n",
    "\n",
    "  - **ice_accretion_3hr:** Amount of ice accretion in the past 3 hours.\n",
    "\n",
    "  - **ice_accretion_6hr:** Amount of ice accretion in the past 6 hours.\n",
    "\n",
    "  - **peak_wind_gust:** Peak wind gust observed during the period.\n",
    "\n",
    "  - **peak_wind_drct:** Direction from which the peak wind gust came.\n",
    "\n",
    "  - **peak_wind_time:** Time when the peak wind gust was observed.\n",
    "\n",
    "  - **feel:** \"Feels like\" temperature, which takes into account factors like wind chill or heat index.\n",
    "\n",
    "  - **metar:** METAR is a format for reporting weather information, mainly used by pilots. This column would contain the raw METAR string for the observation.\n",
    "\n",
    "  - **snowdepth:** Depth of snow on the ground, typically measured in inches."
   ]
  },
  {
   "cell_type": "code",
   "execution_count": null,
   "metadata": {},
   "outputs": [],
   "source": [
    "# Loads weather data for the specific weather station fed as an argument\n",
    "station_data = iem_querier.query_station_data(stations.iloc[0])\n",
    "station_data"
   ]
  },
  {
   "cell_type": "code",
   "execution_count": null,
   "metadata": {},
   "outputs": [],
   "source": [
    "# Loads weather data for all weather_stations | It will take a while\n",
    "all_station_data = iem_querier.query_multiple_station_data(stations)\n",
    "all_station_data"
   ]
  },
  {
   "cell_type": "code",
   "execution_count": null,
   "metadata": {},
   "outputs": [],
   "source": []
  },
  {
   "cell_type": "code",
   "execution_count": null,
   "metadata": {},
   "outputs": [],
   "source": []
  },
  {
   "cell_type": "code",
   "execution_count": null,
   "metadata": {},
   "outputs": [],
   "source": []
  },
  {
   "cell_type": "code",
   "execution_count": null,
   "metadata": {},
   "outputs": [],
   "source": []
  },
  {
   "cell_type": "code",
   "execution_count": null,
   "metadata": {},
   "outputs": [],
   "source": []
  },
  {
   "cell_type": "code",
   "execution_count": null,
   "metadata": {},
   "outputs": [],
   "source": []
  },
  {
   "cell_type": "code",
   "execution_count": null,
   "metadata": {},
   "outputs": [],
   "source": []
  },
  {
   "cell_type": "code",
   "execution_count": null,
   "metadata": {},
   "outputs": [],
   "source": []
  },
  {
   "cell_type": "code",
   "execution_count": null,
   "metadata": {},
   "outputs": [],
   "source": []
  }
 ],
 "metadata": {
  "kernelspec": {
   "display_name": "FlightStats",
   "language": "python",
   "name": "flightstats"
  },
  "language_info": {
   "codemirror_mode": {
    "name": "ipython",
    "version": 3
   },
   "file_extension": ".py",
   "mimetype": "text/x-python",
   "name": "python",
   "nbconvert_exporter": "python",
   "pygments_lexer": "ipython3",
   "version": "3.11.5"
  }
 },
 "nbformat": 4,
 "nbformat_minor": 4
}
