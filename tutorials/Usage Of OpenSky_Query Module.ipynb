{
 "cells": [
  {
   "cell_type": "markdown",
   "metadata": {},
   "source": [
    "# Usage of `src.data.opensky_query` module.\n",
    "\n",
    "This notebook outlies the basic usage of the `src.data.opensky_query` module. Used to query flight data and and state vector data from the opensky database.\n",
    "\n",
    "**Definitions**\n",
    " - Flight Data: Information about the flight, icao24 number, callsign, first and last seen times.\n",
    " - State Vector Data: Information about flight's position and movement at given points of time.\n",
    " \n",
    "**Requirements**\n",
    " - A OpenSky Login and access to the OpenSky Database. Credentials can be aquired by contacting the administrators of the [website](https://opensky-network.org/about/contact).\n",
    " - A `.yml` file containing the credentials to access the OpenSky Database\n",
    " - A `.yml` file being a copy of `config/config_template.yml` contaning information about the flights to be downloaded, as well as a path to the credentials config file\n",
    "\n",
    "**Helpful Links**\n",
    "\n",
    " - [Date-Time Unix-Time Converter](https://www.unixtimestamp.com/)\n",
    "\n",
    " - [A Quick Guide To OpenSky's Impala Shell](https://opensky-network.org/data/impala)\n"
   ]
  },
  {
   "cell_type": "markdown",
   "metadata": {},
   "source": [
    "## Setting up access to database\n",
    "\n",
    "This section sets up the basic access to the database by loading credentials and configuration files into a custom Client object."
   ]
  },
  {
   "cell_type": "code",
   "execution_count": 1,
   "metadata": {},
   "outputs": [],
   "source": [
    "import sys\n",
    "# This variable should indicate the path from this Jupyter Notebook to the root directory of the repo.\n",
    "root_path = '../'\n",
    "# Adds the repo's root to the list of paths\n",
    "sys.path.append(root_path)\n",
    "\n",
    "# Package to define and interpret dates\n",
    "import datetime\n",
    "# Package to read yml files\n",
    "import yaml\n",
    "# Package to handle file paths\n",
    "import os\n",
    "# Package for downloading opensky data \n",
    "from src.data import opensky_query\n",
    "# Utilities package\n",
    "from src.common import utils\n",
    "\n",
    "# Normalizing all paths to work on all operational systems\n",
    "root_path = os.path.normpath(root_path) # Path from this notebook to the root directory\n",
    "config_path_from_root = os.path.normpath('config/config_tutorial.yml') # Path from root to the desired config file\n",
    "config_path = os.path.join(root_path, config_path_from_root) # Defining path from this notebook to config file\n",
    "\n",
    "# Loading config file\n",
    "with open(config_path, 'r',  encoding='utf8') as file:\n",
    "    config = yaml.safe_load(file)\n",
    "        \n",
    "# Defining credentials filepath\n",
    "credentials_file_from_root = os.path.normpath(config['base-configs']['opensky-credentials'])\n",
    "credentials_file = os.path.join(root_path, credentials_file_from_root) # Defining path from this notebook to credentials file\n",
    "\n",
    "# Loading credentials file\n",
    "with open(credentials_file, 'r',  encoding='utf8') as file:\n",
    "    credentials = yaml.safe_load(file)\n",
    "\n",
    "# Creates an instance of a logger class to log all that happens, optional (but encouraged).\n",
    "logger = utils.Logger(config)\n",
    "\n",
    "# Creates an instace of the Querier class used for querying the opensky database\n",
    "opensky_querier = opensky_query.Querier(\n",
    "    credentials,\n",
    "    config,\n",
    "    logger = logger)"
   ]
  },
  {
   "cell_type": "markdown",
   "metadata": {},
   "source": [
    "## Loading the Flight Data for flights in the airports and dates specified\n",
    "\n",
    "The code below downloads the flight data for all found flights between the dates specified and between the airports specified. The result is given as a Pandas DataFrame\n",
    "\n",
    "The columns of the dataframe are:\n",
    " - time: Recorded Unix UTC time of when the data was gathered\n",
    " - lat: Latitude of the aircraft at the given time\n",
    " - lon: Longitude of the aircraft at the given time\n",
    " - baroaltitude: Altitude of the aircraft according to the internal barometer at the given time\n",
    " - geoaltitude: Altitude of the aircraft according to the internal gps at the given time\n"
   ]
  },
  {
   "cell_type": "code",
   "execution_count": 2,
   "metadata": {},
   "outputs": [
    {
     "name": "stdout",
     "output_type": "stream",
     "text": [
      "2023/11/07 21:11:41 : Querying data for flights from KBTR to KDFW between the dates 2022-12-30 18:00:00 and 2022-12-31 18:00:00\n"
     ]
    },
    {
     "name": "stderr",
     "output_type": "stream",
     "text": [
      "\n",
      "KeyboardInterrupt\n",
      "\n"
     ]
    }
   ],
   "source": [
    "# Looking at all flights from Baton Rouge to Dallas from `Jan 1, 2022` to `Jan 2, 2022`\n",
    "departure_airport = 'KBTR'\n",
    "arrival_airport = 'KDFW'\n",
    "start_date = datetime.date(2022, 12, 31)\n",
    "end_date = datetime.date(2023, 1, 2)\n",
    "\n",
    "# This code will query the database and return the flights requested.\n",
    "# As mentioned in the wiki, sometimes there are missing files for some days, which the code handles and adds as an exception before repeating the query\n",
    "flights = opensky_querier.query_flight_data(\n",
    "          {'departure_airport': departure_airport,\n",
    "          'arrival_airport': arrival_airport}, \n",
    "          {'start': start_date, \n",
    "          'end': end_date})\n",
    "\n",
    "flights"
   ]
  },
  {
   "cell_type": "markdown",
   "metadata": {},
   "source": [
    "## Loading State Vector data for a single flight\n",
    "\n",
    "The code below donloads a specific flight's state vectors, and returns it in a pandas DataFrame.\n",
    "\n",
    "The columns of the dataframe are:\n",
    " - time: Recorded Unix UTC time of when the data was gathered\n",
    " - lat: Latitude of the aircraft at the given time\n",
    " - lon: Longitude of the aircraft at the given time\n",
    " - baroaltitude: Altitude of the aircraft according to the internal barometer at the given time\n",
    " - geoaltitude: Altitude of the aircraft according to the internal gps at the given time\n"
   ]
  },
  {
   "cell_type": "code",
   "execution_count": null,
   "metadata": {},
   "outputs": [],
   "source": [
    "# Let's choose a random flight out of the dataframe we got\n",
    "flight = flights.iloc[2]\n",
    "\n",
    "# Similarly to querying flight data, there are 'bad hours' which can happen\n",
    "state_vectors = opensky_querier.query_state_vectors(\n",
    "                flight['icao24'],\n",
    "                flight['firstseen'],\n",
    "                flight['lastseen'])\n",
    "\n",
    "state_vectors.dropna(inplace=True)\n",
    "state_vectors"
   ]
  },
  {
   "cell_type": "code",
   "execution_count": null,
   "metadata": {},
   "outputs": [],
   "source": [
    "state_vectors.to_csv('tutorial_data/state_vectors.csv')"
   ]
  },
  {
   "cell_type": "code",
   "execution_count": null,
   "metadata": {},
   "outputs": [],
   "source": []
  }
 ],
 "metadata": {
  "kernelspec": {
   "display_name": "FlightStats",
   "language": "python",
   "name": "flightstats"
  },
  "language_info": {
   "codemirror_mode": {
    "name": "ipython",
    "version": 3
   },
   "file_extension": ".py",
   "mimetype": "text/x-python",
   "name": "python",
   "nbconvert_exporter": "python",
   "pygments_lexer": "ipython3",
   "version": "3.11.5"
  }
 },
 "nbformat": 4,
 "nbformat_minor": 4
}
