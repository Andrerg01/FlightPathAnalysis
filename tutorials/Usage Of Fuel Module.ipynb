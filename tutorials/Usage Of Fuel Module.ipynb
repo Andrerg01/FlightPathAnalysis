{
 "cells": [
  {
   "cell_type": "markdown",
   "metadata": {},
   "source": [
    "# Usage of `src.models.fuel` module.\n",
    "\n",
    "This notebook outlies the basic usage of the `src.models.fuel` module. Used to estimate the fuel usage of a given flight path\n",
    " \n",
    "**Requirements**\n",
    " - A csv the flight's state vectors\n",
    "\n",
    "**Helpful Links**\n"
   ]
  },
  {
   "cell_type": "markdown",
   "metadata": {},
   "source": [
    "## Basic Setup"
   ]
  },
  {
   "cell_type": "code",
   "execution_count": null,
   "metadata": {},
   "outputs": [],
   "source": [
    "import sys\n",
    "# This variable should indicate the path from this Jupyter Notebook to the root directory of the repo.\n",
    "root_path = '../'\n",
    "# Adds the repo's root to the list of paths\n",
    "sys.path.append(root_path)\n",
    "\n",
    "import sqlite3\n",
    "import os\n",
    "import pandas as pd\n",
    "\n",
    "# Fuel Module\n",
    "from src.models import fuel\n",
    "\n",
    "# File containing some flight database\n",
    "flights_database = os.path.normpath('../data/flight/KDEN_KSEA_2023-01-01_2023-01-31.sqlite')\n",
    "\n",
    "# Creates the connection to the database\n",
    "flights_connection = sqlite3.connect(flights_database)\n",
    "\n",
    "# Reads the first flight_id and corresponding icao24\n",
    "flight_id, icao24 = pd.read_sql_query(\"SELECT flight_id, icao24 FROM flights LIMIT 1;\", flights_connection).values[0,:]\n",
    "\n",
    "# Reads that flight's state vectors\n",
    "state_vectors = pd.read_sql_query(f\"\"\"\n",
    "                                    SELECT DISTINCT state_vectors.*\n",
    "                                    FROM state_vectors\n",
    "                                    JOIN flights ON flights.flight_id = state_vectors.flight_id\n",
    "                                    WHERE state_vectors.flight_id = \"{flight_id}\";\n",
    "                                   \"\"\", flights_connection)\n",
    "# Closes connection\n",
    "flights_connection.close()\n",
    "\n",
    "# Computes estimated mass, used fuel, and fuel flow at each point in time\n",
    "state_vectors = fuel.compute_fuel_data(state_vectors, icao24)\n",
    "\n",
    "state_vectors"
   ]
  },
  {
   "cell_type": "markdown",
   "metadata": {},
   "source": [
    "## Computing fuel quantities for all routes and flights"
   ]
  },
  {
   "cell_type": "code",
   "execution_count": null,
   "metadata": {},
   "outputs": [],
   "source": [
    "import sys\n",
    "# This variable should indicate the path from this Jupyter Notebook to the root directory of the repo.\n",
    "root_path = '../'\n",
    "# Adds the repo's root to the list of paths\n",
    "sys.path.append(root_path)\n",
    "\n",
    "import sqlite3\n",
    "import os\n",
    "import pandas as pd\n",
    "from IPython.display import clear_output\n",
    "\n",
    "# Fuel Module\n",
    "from src.models import fuel\n",
    "\n",
    "files = ['../data/flight/' + f for f in os.listdir('../data/flight/') if f.endswith('.sqlite')]\n",
    "\n",
    "new_columns = ['mass', 'fuelflow', 'used_fuel']\n",
    "\n",
    "i = 0\n",
    "for file in files:\n",
    "    i += 1\n",
    "    clear_output(wait=True)\n",
    "    print(f'{i}/{len(files)}', file)\n",
    "    conn = sqlite3.connect(file)\n",
    "    cursor = conn.cursor()\n",
    "    \n",
    "    cursor.execute(\"DROP TABLE IF EXISTS state_vector_fuel;\")\n",
    "\n",
    "    # Create the new table\n",
    "    create_table_query = f'''\n",
    "        CREATE TABLE state_vector_fuel (\n",
    "            vector_id INTEGER PRIMARY KEY,\n",
    "            {\", \".join([f\"{col} REAL\" for col in new_columns])}\n",
    "        );\n",
    "    '''\n",
    "    # Create the new table if it doesn't exist\n",
    "    cursor.execute(create_table_query) \n",
    "    \n",
    "    flight_ids, icao24s = pd.read_sql_query(\"SELECT flight_id, icao24 FROM flights;\", conn).values.T\n",
    "    \n",
    "    j = 0\n",
    "    for flight_id, icao24 in zip(flight_ids, icao24s):\n",
    "        j += 1\n",
    "        # Reads that flight's state vectors\n",
    "        state_vectors = pd.read_sql_query(f\"\"\"\n",
    "                                    SELECT DISTINCT state_vectors.*\n",
    "                                    FROM state_vectors\n",
    "                                    JOIN flights ON flights.flight_id = state_vectors.flight_id\n",
    "                                    WHERE state_vectors.flight_id = \"{flight_id}\";\n",
    "                                   \"\"\", conn)\n",
    "        state_vectors = fuel.compute_fuel_data(state_vectors, icao24)\n",
    "        print(flight_id, state_vectors.iloc[-1]['used_fuel'], f'{j}/{len(flight_ids)}')\n",
    "        for index, row in state_vectors.iterrows():\n",
    "            # Preparing the data to be inserted\n",
    "            insert_data = tuple(row[col] for col in ['vector_id'] + new_columns)\n",
    "\n",
    "            # Creating query to insert new values\n",
    "            insert_query = f'''\n",
    "                INSERT INTO state_vector_fuel (vector_id, {', '.join(new_columns)})\n",
    "                VALUES ({', '.join('?' * len(insert_data))})\n",
    "                ON CONFLICT(vector_id) DO UPDATE SET\n",
    "                {', '.join([f\"{col} = excluded.{col}\" for col in new_columns])};\n",
    "            '''\n",
    "            cursor.execute(insert_query, insert_data)\n",
    "        # Commiting changes to the database\n",
    "        conn.commit()\n",
    "    conn.close()"
   ]
  },
  {
   "cell_type": "code",
   "execution_count": null,
   "metadata": {},
   "outputs": [],
   "source": []
  },
  {
   "cell_type": "code",
   "execution_count": null,
   "metadata": {},
   "outputs": [],
   "source": [
    "state_vectors"
   ]
  },
  {
   "cell_type": "code",
   "execution_count": null,
   "metadata": {},
   "outputs": [],
   "source": []
  },
  {
   "cell_type": "code",
   "execution_count": null,
   "metadata": {},
   "outputs": [],
   "source": []
  },
  {
   "cell_type": "code",
   "execution_count": null,
   "metadata": {},
   "outputs": [],
   "source": []
  }
 ],
 "metadata": {
  "kernelspec": {
   "display_name": "FlightStats",
   "language": "python",
   "name": "flightstats"
  },
  "language_info": {
   "codemirror_mode": {
    "name": "ipython",
    "version": 3
   },
   "file_extension": ".py",
   "mimetype": "text/x-python",
   "name": "python",
   "nbconvert_exporter": "python",
   "pygments_lexer": "ipython3",
   "version": "3.11.5"
  }
 },
 "nbformat": 4,
 "nbformat_minor": 4
}
